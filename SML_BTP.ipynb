{
  "cells": [
    {
      "cell_type": "markdown",
      "metadata": {
        "id": "s5WRyYpadiAS"
      },
      "source": [
        "# **SML Project: Binary Tree Predictors**\n",
        "\n",
        "*   **Author:** Matteo Onger\n",
        "*   **Date:** September 2024"
      ]
    },
    {
      "cell_type": "markdown",
      "source": [
        "**Dataset documentation**:\n",
        "*   [Secondary Mushroom](https://archive.ics.uci.edu/dataset/848/secondary+mushroom+dataset)"
      ],
      "metadata": {
        "id": "f2eLQPrrgfbd"
      }
    },
    {
      "cell_type": "code",
      "source": [
        "!pip install ucimlrepo"
      ],
      "metadata": {
        "id": "S95Nvs8sdsQ-"
      },
      "execution_count": null,
      "outputs": []
    },
    {
      "cell_type": "code",
      "source": [
        "from ucimlrepo import fetch_ucirepo\n",
        "\n",
        "secondary_mushroom = fetch_ucirepo(id=848)"
      ],
      "metadata": {
        "id": "PCSp96pJdllH"
      },
      "execution_count": 15,
      "outputs": []
    }
  ],
  "metadata": {
    "kernelspec": {
      "display_name": "Python 3",
      "language": "python",
      "name": "python3"
    },
    "language_info": {
      "codemirror_mode": {
        "name": "ipython",
        "version": 3
      },
      "file_extension": ".py",
      "mimetype": "text/x-python",
      "name": "python",
      "nbconvert_exporter": "python",
      "pygments_lexer": "ipython3",
      "version": "3.10.11"
    },
    "colab": {
      "provenance": []
    }
  },
  "nbformat": 4,
  "nbformat_minor": 0
}