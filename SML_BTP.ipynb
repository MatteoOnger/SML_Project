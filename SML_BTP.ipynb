{
  "cells": [
    {
      "cell_type": "markdown",
      "metadata": {
        "id": "s5WRyYpadiAS"
      },
      "source": [
        "# **SML Project: Binary Tree Predictors**\n",
        "\n",
        "*   **Author:** Matteo Onger\n",
        "*   **Date:** October 2024"
      ]
    },
    {
      "cell_type": "markdown",
      "source": [
        "**Dataset documentation**:\n",
        "*   [Secondary Mushroom](https://archive.ics.uci.edu/dataset/848/secondary+mushroom+dataset)"
      ],
      "metadata": {
        "id": "f2eLQPrrgfbd"
      }
    },
    {
      "cell_type": "markdown",
      "source": [
        "## VM Setup"
      ],
      "metadata": {
        "id": "bh6pPVhJLCTm"
      }
    },
    {
      "cell_type": "code",
      "source": [
        "# install dataset package\n",
        "!pip install ucimlrepo\n",
        "\n",
        "# download repository\n",
        "!git clone -b dev https://github.com/MatteoOnger/SML_Project.git\n",
        "\n",
        "# set working directory\n",
        "%cd /content/SML_Project/"
      ],
      "metadata": {
        "id": "S95Nvs8sdsQ-",
        "outputId": "e2140ef6-6a11-47ef-d9c4-02a257d78410",
        "colab": {
          "base_uri": "https://localhost:8080/"
        }
      },
      "execution_count": 1,
      "outputs": [
        {
          "output_type": "stream",
          "name": "stdout",
          "text": [
            "Collecting ucimlrepo\n",
            "  Downloading ucimlrepo-0.0.7-py3-none-any.whl.metadata (5.5 kB)\n",
            "Requirement already satisfied: pandas>=1.0.0 in /usr/local/lib/python3.10/dist-packages (from ucimlrepo) (2.2.2)\n",
            "Requirement already satisfied: certifi>=2020.12.5 in /usr/local/lib/python3.10/dist-packages (from ucimlrepo) (2024.8.30)\n",
            "Requirement already satisfied: numpy>=1.22.4 in /usr/local/lib/python3.10/dist-packages (from pandas>=1.0.0->ucimlrepo) (1.26.4)\n",
            "Requirement already satisfied: python-dateutil>=2.8.2 in /usr/local/lib/python3.10/dist-packages (from pandas>=1.0.0->ucimlrepo) (2.8.2)\n",
            "Requirement already satisfied: pytz>=2020.1 in /usr/local/lib/python3.10/dist-packages (from pandas>=1.0.0->ucimlrepo) (2024.2)\n",
            "Requirement already satisfied: tzdata>=2022.7 in /usr/local/lib/python3.10/dist-packages (from pandas>=1.0.0->ucimlrepo) (2024.2)\n",
            "Requirement already satisfied: six>=1.5 in /usr/local/lib/python3.10/dist-packages (from python-dateutil>=2.8.2->pandas>=1.0.0->ucimlrepo) (1.16.0)\n",
            "Downloading ucimlrepo-0.0.7-py3-none-any.whl (8.0 kB)\n",
            "Installing collected packages: ucimlrepo\n",
            "Successfully installed ucimlrepo-0.0.7\n",
            "Cloning into 'SML_Project'...\n",
            "remote: Enumerating objects: 157, done.\u001b[K\n",
            "remote: Counting objects: 100% (157/157), done.\u001b[K\n",
            "remote: Compressing objects: 100% (112/112), done.\u001b[K\n",
            "remote: Total 157 (delta 94), reused 91 (delta 44), pack-reused 0 (from 0)\u001b[K\n",
            "Receiving objects: 100% (157/157), 40.99 KiB | 1.58 MiB/s, done.\n",
            "Resolving deltas: 100% (94/94), done.\n",
            "/content/SML_Project\n"
          ]
        }
      ]
    },
    {
      "cell_type": "markdown",
      "source": [
        "## Code"
      ],
      "metadata": {
        "id": "93gz7BMvLLrX"
      }
    },
    {
      "cell_type": "code",
      "source": [
        "# ---- LIBRARIES ----\n",
        "import logging\n",
        "import pandas as pd\n",
        "\n",
        "from sklearn.model_selection import KFold\n",
        "from ucimlrepo import fetch_ucirepo\n",
        "\n",
        "from bintreepredictor import BinTreePredictor\n",
        "from data import DataSet\n",
        "from utils import round_wrp"
      ],
      "metadata": {
        "id": "PCSp96pJdllH"
      },
      "execution_count": 27,
      "outputs": []
    },
    {
      "cell_type": "code",
      "source": [
        "logging.basicConfig(level=logging.INFO, format=\"%(asctime)s - %(levelname)s - %(name)s - %(message)s\", force=True)"
      ],
      "metadata": {
        "id": "nv8w9CYxnUP1"
      },
      "execution_count": 11,
      "outputs": []
    },
    {
      "cell_type": "code",
      "source": [
        "# ---- FUNCS ----\n",
        "def k_folds_cross_val(k :int, predictor :BinTreePredictor, data :pd.DataFrame, random_state :int=1) -> float:\n",
        "    logger = logging.getLogger(\"crossval\")\n",
        "\n",
        "    avg_test_err = 0\n",
        "    cv = KFold(n_splits=k, shuffle=True, random_state=random_state)\n",
        "\n",
        "    for i, (train_index, test_index) in enumerate(cv.split(data)):\n",
        "        train_ds = DataSet(data.iloc[train_index], label_col=\"class\")\n",
        "        test_ds =  DataSet(data.iloc[test_index], label_col=\"class\")\n",
        "\n",
        "        train_err = predictor.fit(train_ds)\n",
        "        _, test_err = predictor.predict(test_ds)\n",
        "\n",
        "        logger.info(f\"round {i} - training_err:{round_wrp(train_err,4)} - test_err:{round_wrp(test_err,4)}\")\n",
        "\n",
        "        avg_test_err += test_err\n",
        "    return avg_test_err / k"
      ],
      "metadata": {
        "id": "LJiQJtcoUVai"
      },
      "execution_count": 30,
      "outputs": []
    },
    {
      "cell_type": "code",
      "source": [
        "# Fetch datatset\n",
        "mushroom_df = fetch_ucirepo(id=848).data.original"
      ],
      "metadata": {
        "id": "c5_g4VGfAI-W"
      },
      "execution_count": 5,
      "outputs": []
    },
    {
      "cell_type": "code",
      "source": [
        "predictor = BinTreePredictor(\"zero-one\", \"mode\", \"entropy\", \"max_nodes\", 3, max_thresholds=threshold)\n",
        "avg_test_err = k_folds_cross_val(5, predictor, mushroom_df)"
      ],
      "metadata": {
        "id": "8vxeD_5AfLqI"
      },
      "execution_count": null,
      "outputs": []
    },
    {
      "cell_type": "code",
      "source": [
        "stop_criterion_thresholds = [i for i in range(5,35, 5)]\n",
        "\n",
        "res = dict()\n",
        "for threshold in stop_criterion_thresholds:\n",
        "    predictor = BinTreePredictor(\"zero-one\", \"mode\", \"entropy\", \"max_nodes\", 3, max_thresholds=threshold)\n",
        "    avg_test_err = k_folds_cross_val(5, predictor, mushroom_df)\n",
        "    res[threshold] = avg_test_err\n",
        "\n",
        "res"
      ],
      "metadata": {
        "id": "4Nsv9LNoWTZC"
      },
      "execution_count": null,
      "outputs": []
    },
    {
      "cell_type": "code",
      "source": [
        "outer_cv = KFold(n_splits=10, shuffle=True, random_state=1)\n",
        "\n",
        "\n",
        "\n",
        "for outer_train_index, outer_test_index in outer_cv.split(mushroom_df):\n",
        "    test_ds = DataSet(mushroom_df.iloc[test_index])\n",
        "    train_ds = DataSet(mushroom_df.iloc[train_index])\n",
        "\n",
        "    inner_cv = KFold(n_splits=3, shuffle=True, random_state=1)\n",
        "\n",
        "\n",
        "\n",
        "    print(space)"
      ],
      "metadata": {
        "id": "8T8n9qD7QdDM"
      },
      "execution_count": null,
      "outputs": []
    }
  ],
  "metadata": {
    "kernelspec": {
      "display_name": "Python 3",
      "language": "python",
      "name": "python3"
    },
    "language_info": {
      "codemirror_mode": {
        "name": "ipython",
        "version": 3
      },
      "file_extension": ".py",
      "mimetype": "text/x-python",
      "name": "python",
      "nbconvert_exporter": "python",
      "pygments_lexer": "ipython3",
      "version": "3.10.11"
    },
    "colab": {
      "provenance": []
    }
  },
  "nbformat": 4,
  "nbformat_minor": 0
}