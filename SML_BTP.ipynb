{
  "cells": [
    {
      "cell_type": "markdown",
      "metadata": {
        "id": "s5WRyYpadiAS"
      },
      "source": [
        "# **SML Project: Binary Tree Predictors**\n",
        "\n",
        "*   **Author:** Matteo Onger\n",
        "*   **Date:** October 2024"
      ]
    },
    {
      "cell_type": "markdown",
      "metadata": {
        "id": "f2eLQPrrgfbd"
      },
      "source": [
        "**Dataset documentation**:\n",
        "*   [Secondary Mushroom](https://archive.ics.uci.edu/dataset/848/secondary+mushroom+dataset)"
      ]
    },
    {
      "cell_type": "markdown",
      "metadata": {
        "id": "bh6pPVhJLCTm"
      },
      "source": [
        "## VM Setup"
      ]
    },
    {
      "cell_type": "code",
      "execution_count": null,
      "metadata": {
        "colab": {
          "base_uri": "https://localhost:8080/"
        },
        "id": "S95Nvs8sdsQ-",
        "outputId": "e2140ef6-6a11-47ef-d9c4-02a257d78410"
      },
      "outputs": [],
      "source": [
        "# install dataset package\n",
        "!pip install ucimlrepo\n",
        "\n",
        "# download repository\n",
        "!git clone -b dev https://github.com/MatteoOnger/SML_Project.git\n",
        "\n",
        "# set working directory\n",
        "%cd /content/SML_Project/"
      ]
    },
    {
      "cell_type": "markdown",
      "metadata": {
        "id": "93gz7BMvLLrX"
      },
      "source": [
        "## Code"
      ]
    },
    {
      "cell_type": "code",
      "execution_count": 27,
      "metadata": {
        "id": "PCSp96pJdllH"
      },
      "outputs": [],
      "source": [
        "# ---- LIBRARIES ----\n",
        "import logging\n",
        "import pandas as pd\n",
        "\n",
        "from sklearn.model_selection import KFold\n",
        "from typing import Tuple\n",
        "from ucimlrepo import fetch_ucirepo\n",
        "\n",
        "from bintreepredictor import BinTreePredictor\n",
        "from data import DataSet\n",
        "from utils import round_wrp"
      ]
    },
    {
      "cell_type": "code",
      "execution_count": 11,
      "metadata": {
        "id": "nv8w9CYxnUP1"
      },
      "outputs": [],
      "source": [
        "logging.basicConfig(level=logging.INFO, format=\"%(asctime)s - %(levelname)s - %(name)s - %(message)s\", force=True)"
      ]
    },
    {
      "cell_type": "code",
      "execution_count": 30,
      "metadata": {
        "id": "LJiQJtcoUVai"
      },
      "outputs": [],
      "source": [
        "# ---- FUNCTIONS ----\n",
        "def k_folds_cross_val(k :int, predictor :BinTreePredictor, data :pd.DataFrame, shuffle :bool=True, random_state :int=1) -> Tuple[float, float]:\n",
        "    \"\"\"\n",
        "    Applies the k-folds cross validation to estimate the expected risk of the predictor.\n",
        "\n",
        "    Parameters\n",
        "    ----------\n",
        "    k : int\n",
        "        Number of folds.\n",
        "    predictor : BinTreePredictor\n",
        "        Predictor tested.\n",
        "    data : pd.DataFrame\n",
        "        Data used to train and test the predictor.\n",
        "    shuffle : bool, optional\n",
        "        Whether to shuffle the data before splitting into batches, by default True.\n",
        "    random_state : int, optional\n",
        "        When shuffle is True, random_state affects the ordering of the indices, which controls the randomness of each fold. \n",
        "        Otherwise, this parameter has no effect, by default 1.\n",
        "\n",
        "    Returns\n",
        "    -------\n",
        "    Tuple[float, float]\n",
        "        The tuple returned contains the average training error and the average test error.\n",
        "    \"\"\"\n",
        "    logger = logging.getLogger(\"crossval\")\n",
        "\n",
        "    avg_train_err = 0\n",
        "    avg_test_err = 0\n",
        "\n",
        "    cv = KFold(n_splits=k, shuffle=shuffle, random_state=random_state)\n",
        "\n",
        "    for i, (train_index, test_index) in enumerate(cv.split(data)):\n",
        "        train_ds = DataSet(data.iloc[train_index], label_col=\"class\")\n",
        "        test_ds =  DataSet(data.iloc[test_index], label_col=\"class\")\n",
        "\n",
        "        train_err = predictor.fit(train_ds)\n",
        "        _, test_err = predictor.predict(test_ds)\n",
        "\n",
        "        logger.debug(f\"round {i} - training_err:{round_wrp(train_err,4)} - test_err:{round_wrp(test_err,4)}\")\n",
        "\n",
        "        avg_train_err += train_err\n",
        "        avg_test_err += test_err\n",
        "    return avg_train_err / k, avg_test_err / k"
      ]
    },
    {
      "cell_type": "code",
      "execution_count": 5,
      "metadata": {
        "id": "c5_g4VGfAI-W"
      },
      "outputs": [],
      "source": [
        "# fetch datatset\n",
        "mushroom_df = fetch_ucirepo(id=848).data.original"
      ]
    },
    {
      "cell_type": "code",
      "execution_count": null,
      "metadata": {
        "id": "4Nsv9LNoWTZC"
      },
      "outputs": [],
      "source": [
        "# use k-folds CV to estimate the expected risk of each predictor produced by setting to different values the hyper-parameters \n",
        "stop_criterion_thresholds = [i for i in range(5, 35, 5)]\n",
        "\n",
        "results = dict()\n",
        "for threshold in stop_criterion_thresholds:\n",
        "    predictor = BinTreePredictor(\"zero-one\", \"mode\", \"entropy\", \"max_nodes\", 3, max_thresholds=threshold)\n",
        "    _, avg_test_err = k_folds_cross_val(5, predictor, mushroom_df)\n",
        "    results[threshold] = avg_test_err\n",
        "\n",
        "results"
      ]
    },
    {
      "cell_type": "code",
      "execution_count": null,
      "metadata": {
        "id": "8T8n9qD7QdDM"
      },
      "outputs": [],
      "source": [
        "# ...\n",
        "stop_criterion_thresholds = [i for i in range(5, 35, 5)]\n",
        "\n",
        "outer_cv = KFold(n_splits=10, shuffle=True, random_state=1)\n",
        "\n",
        "for train_index, test_index in outer_cv.split(mushroom_df):\n",
        "    test_ds = DataSet(mushroom_df.iloc[test_index])\n",
        "    train_ds = DataSet(mushroom_df.iloc[train_index])\n",
        "\n",
        "    best_threshold = None\n",
        "    best_err = float(\"inf\")\n",
        "    for threshold in stop_criterion_thresholds:\n",
        "        predictor = BinTreePredictor(\"zero-one\", \"mode\", \"entropy\", \"max_nodes\", 3, max_thresholds=threshold)\n",
        "        _, avg_test_err = k_folds_cross_val(5, predictor, mushroom_df)"
      ]
    }
  ],
  "metadata": {
    "colab": {
      "provenance": []
    },
    "kernelspec": {
      "display_name": "Python 3",
      "language": "python",
      "name": "python3"
    },
    "language_info": {
      "codemirror_mode": {
        "name": "ipython",
        "version": 3
      },
      "file_extension": ".py",
      "mimetype": "text/x-python",
      "name": "python",
      "nbconvert_exporter": "python",
      "pygments_lexer": "ipython3",
      "version": "3.10.11"
    }
  },
  "nbformat": 4,
  "nbformat_minor": 0
}
