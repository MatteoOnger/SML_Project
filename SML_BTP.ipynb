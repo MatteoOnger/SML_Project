{
  "cells": [
    {
      "cell_type": "markdown",
      "metadata": {
        "id": "s5WRyYpadiAS"
      },
      "source": [
        "# **SML Project: Binary Tree Predictors**\n",
        "\n",
        "*   **Author:** Matteo Onger\n",
        "*   **Date:** October 2024"
      ]
    },
    {
      "cell_type": "markdown",
      "source": [
        "**Dataset documentation**:\n",
        "*   [Secondary Mushroom](https://archive.ics.uci.edu/dataset/848/secondary+mushroom+dataset)"
      ],
      "metadata": {
        "id": "f2eLQPrrgfbd"
      }
    },
    {
      "cell_type": "markdown",
      "source": [
        "## VM Setup"
      ],
      "metadata": {
        "id": "bh6pPVhJLCTm"
      }
    },
    {
      "cell_type": "code",
      "source": [
        "# install dataset package\n",
        "!pip install ucimlrepo\n",
        "\n",
        "# download repository\n",
        "!git clone -b dev https://github.com/MatteoOnger/SML_Project.git\n",
        "\n",
        "# set working directory\n",
        "%cd /content/SML_Project/"
      ],
      "metadata": {
        "id": "S95Nvs8sdsQ-"
      },
      "execution_count": null,
      "outputs": []
    },
    {
      "cell_type": "markdown",
      "source": [
        "## Code"
      ],
      "metadata": {
        "id": "93gz7BMvLLrX"
      }
    },
    {
      "cell_type": "code",
      "source": [
        "# ---- LIBRARIES ----\n",
        "from ucimlrepo import fetch_ucirepo"
      ],
      "metadata": {
        "id": "PCSp96pJdllH"
      },
      "execution_count": 2,
      "outputs": []
    },
    {
      "cell_type": "code",
      "source": [
        "mushroom = fetch_ucirepo(id=848)\n",
        "mushroom_df = mushroom.data.original"
      ],
      "metadata": {
        "id": "c5_g4VGfAI-W"
      },
      "execution_count": 10,
      "outputs": []
    }
  ],
  "metadata": {
    "kernelspec": {
      "display_name": "Python 3",
      "language": "python",
      "name": "python3"
    },
    "language_info": {
      "codemirror_mode": {
        "name": "ipython",
        "version": 3
      },
      "file_extension": ".py",
      "mimetype": "text/x-python",
      "name": "python",
      "nbconvert_exporter": "python",
      "pygments_lexer": "ipython3",
      "version": "3.10.11"
    },
    "colab": {
      "provenance": []
    }
  },
  "nbformat": 4,
  "nbformat_minor": 0
}